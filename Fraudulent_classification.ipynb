{
  "nbformat": 4,
  "nbformat_minor": 0,
  "metadata": {
    "colab": {
      "name": "Fraudulent_classification.ipynb",
      "provenance": [],
      "collapsed_sections": []
    },
    "kernelspec": {
      "name": "python3",
      "display_name": "Python 3"
    },
    "language_info": {
      "name": "python"
    }
  },
  "cells": [
    {
      "cell_type": "markdown",
      "metadata": {
        "id": "Gl6rDWOV0zxT"
      },
      "source": [
        "# Fraud Detection Using Machine Learning\n"
      ]
    },
    {
      "cell_type": "markdown",
      "metadata": {
        "id": "uT7dARRMp6YZ"
      },
      "source": [
        "# **The libraries used are Pandas , Numpy , Sklearn, Matplotlib,Seaborn.**\n",
        "\n",
        "\n",
        "\n"
      ]
    },
    {
      "cell_type": "code",
      "metadata": {
        "id": "vDx1f4wO1gxK"
      },
      "source": [
        "import pandas as pd\n",
        "import numpy as np\n",
        "import matplotlib.pyplot as plt\n",
        " \n",
        "import seaborn as sns\n",
        "from sklearn.model_selection import train_test_split\n",
        "from sklearn.linear_model import LogisticRegression\n",
        "from sklearn.tree import DecisionTreeClassifier  \n",
        "from sklearn.ensemble import RandomForestRegressor\n",
        "from sklearn.metrics import accuracy_score\n",
        "%matplotlib inline \n"
      ],
      "execution_count": 2,
      "outputs": []
    },
    {
      "cell_type": "markdown",
      "metadata": {
        "id": "8fq3Kaqxp5QJ"
      },
      "source": [
        "*Reading the csv file"
      ]
    },
    {
      "cell_type": "code",
      "metadata": {
        "id": "LXnxOwlc1kQi"
      },
      "source": [
        "df=pd.read_csv(\"Fraud.csv\")"
      ],
      "execution_count": 3,
      "outputs": []
    },
    {
      "cell_type": "markdown",
      "metadata": {
        "id": "u5wbG40GkJoS"
      },
      "source": [
        "*Data Cleaning : Checking For missing and null values "
      ]
    },
    {
      "cell_type": "code",
      "metadata": {
        "colab": {
          "base_uri": "https://localhost:8080/"
        },
        "id": "OrZeEI5q1nxG",
        "outputId": "21cc6555-a73d-4e8e-ef8b-d4019dab457c"
      },
      "source": [
        "df.info()"
      ],
      "execution_count": 4,
      "outputs": [
        {
          "output_type": "stream",
          "name": "stdout",
          "text": [
            "<class 'pandas.core.frame.DataFrame'>\n",
            "RangeIndex: 3628359 entries, 0 to 3628358\n",
            "Data columns (total 11 columns):\n",
            " #   Column          Dtype  \n",
            "---  ------          -----  \n",
            " 0   step            int64  \n",
            " 1   type            object \n",
            " 2   amount          float64\n",
            " 3   nameOrig        object \n",
            " 4   oldbalanceOrg   float64\n",
            " 5   newbalanceOrig  float64\n",
            " 6   nameDest        object \n",
            " 7   oldbalanceDest  float64\n",
            " 8   newbalanceDest  float64\n",
            " 9   isFraud         float64\n",
            " 10  isFlaggedFraud  float64\n",
            "dtypes: float64(7), int64(1), object(3)\n",
            "memory usage: 304.5+ MB\n"
          ]
        }
      ]
    },
    {
      "cell_type": "code",
      "metadata": {
        "colab": {
          "base_uri": "https://localhost:8080/",
          "height": 203
        },
        "id": "R-AOQmeg1v4j",
        "outputId": "1b18219e-21a5-4a55-c045-d77b5df714de"
      },
      "source": [
        "df.head()"
      ],
      "execution_count": 5,
      "outputs": [
        {
          "output_type": "execute_result",
          "data": {
            "text/html": [
              "<div>\n",
              "<style scoped>\n",
              "    .dataframe tbody tr th:only-of-type {\n",
              "        vertical-align: middle;\n",
              "    }\n",
              "\n",
              "    .dataframe tbody tr th {\n",
              "        vertical-align: top;\n",
              "    }\n",
              "\n",
              "    .dataframe thead th {\n",
              "        text-align: right;\n",
              "    }\n",
              "</style>\n",
              "<table border=\"1\" class=\"dataframe\">\n",
              "  <thead>\n",
              "    <tr style=\"text-align: right;\">\n",
              "      <th></th>\n",
              "      <th>step</th>\n",
              "      <th>type</th>\n",
              "      <th>amount</th>\n",
              "      <th>nameOrig</th>\n",
              "      <th>oldbalanceOrg</th>\n",
              "      <th>newbalanceOrig</th>\n",
              "      <th>nameDest</th>\n",
              "      <th>oldbalanceDest</th>\n",
              "      <th>newbalanceDest</th>\n",
              "      <th>isFraud</th>\n",
              "      <th>isFlaggedFraud</th>\n",
              "    </tr>\n",
              "  </thead>\n",
              "  <tbody>\n",
              "    <tr>\n",
              "      <th>0</th>\n",
              "      <td>1</td>\n",
              "      <td>PAYMENT</td>\n",
              "      <td>9839.64</td>\n",
              "      <td>C1231006815</td>\n",
              "      <td>170136.0</td>\n",
              "      <td>160296.36</td>\n",
              "      <td>M1979787155</td>\n",
              "      <td>0.0</td>\n",
              "      <td>0.0</td>\n",
              "      <td>0.0</td>\n",
              "      <td>0.0</td>\n",
              "    </tr>\n",
              "    <tr>\n",
              "      <th>1</th>\n",
              "      <td>1</td>\n",
              "      <td>PAYMENT</td>\n",
              "      <td>1864.28</td>\n",
              "      <td>C1666544295</td>\n",
              "      <td>21249.0</td>\n",
              "      <td>19384.72</td>\n",
              "      <td>M2044282225</td>\n",
              "      <td>0.0</td>\n",
              "      <td>0.0</td>\n",
              "      <td>0.0</td>\n",
              "      <td>0.0</td>\n",
              "    </tr>\n",
              "    <tr>\n",
              "      <th>2</th>\n",
              "      <td>1</td>\n",
              "      <td>TRANSFER</td>\n",
              "      <td>181.00</td>\n",
              "      <td>C1305486145</td>\n",
              "      <td>181.0</td>\n",
              "      <td>0.00</td>\n",
              "      <td>C553264065</td>\n",
              "      <td>0.0</td>\n",
              "      <td>0.0</td>\n",
              "      <td>1.0</td>\n",
              "      <td>0.0</td>\n",
              "    </tr>\n",
              "    <tr>\n",
              "      <th>3</th>\n",
              "      <td>1</td>\n",
              "      <td>CASH_OUT</td>\n",
              "      <td>181.00</td>\n",
              "      <td>C840083671</td>\n",
              "      <td>181.0</td>\n",
              "      <td>0.00</td>\n",
              "      <td>C38997010</td>\n",
              "      <td>21182.0</td>\n",
              "      <td>0.0</td>\n",
              "      <td>1.0</td>\n",
              "      <td>0.0</td>\n",
              "    </tr>\n",
              "    <tr>\n",
              "      <th>4</th>\n",
              "      <td>1</td>\n",
              "      <td>PAYMENT</td>\n",
              "      <td>11668.14</td>\n",
              "      <td>C2048537720</td>\n",
              "      <td>41554.0</td>\n",
              "      <td>29885.86</td>\n",
              "      <td>M1230701703</td>\n",
              "      <td>0.0</td>\n",
              "      <td>0.0</td>\n",
              "      <td>0.0</td>\n",
              "      <td>0.0</td>\n",
              "    </tr>\n",
              "  </tbody>\n",
              "</table>\n",
              "</div>"
            ],
            "text/plain": [
              "   step      type    amount  ... newbalanceDest  isFraud  isFlaggedFraud\n",
              "0     1   PAYMENT   9839.64  ...            0.0      0.0             0.0\n",
              "1     1   PAYMENT   1864.28  ...            0.0      0.0             0.0\n",
              "2     1  TRANSFER    181.00  ...            0.0      1.0             0.0\n",
              "3     1  CASH_OUT    181.00  ...            0.0      1.0             0.0\n",
              "4     1   PAYMENT  11668.14  ...            0.0      0.0             0.0\n",
              "\n",
              "[5 rows x 11 columns]"
            ]
          },
          "metadata": {},
          "execution_count": 5
        }
      ]
    },
    {
      "cell_type": "code",
      "metadata": {
        "colab": {
          "base_uri": "https://localhost:8080/"
        },
        "id": "NkoQUzmq2Imz",
        "outputId": "3a065465-597c-4a23-e90f-db43e6b9ab5b"
      },
      "source": [
        "df.isnull().sum()"
      ],
      "execution_count": 6,
      "outputs": [
        {
          "output_type": "execute_result",
          "data": {
            "text/plain": [
              "step              0\n",
              "type              1\n",
              "amount            1\n",
              "nameOrig          1\n",
              "oldbalanceOrg     1\n",
              "newbalanceOrig    1\n",
              "nameDest          1\n",
              "oldbalanceDest    1\n",
              "newbalanceDest    1\n",
              "isFraud           1\n",
              "isFlaggedFraud    1\n",
              "dtype: int64"
            ]
          },
          "metadata": {},
          "execution_count": 6
        }
      ]
    },
    {
      "cell_type": "markdown",
      "metadata": {
        "id": "7gQjzsvzrCk6"
      },
      "source": [
        "*Dropping NULL values"
      ]
    },
    {
      "cell_type": "code",
      "metadata": {
        "id": "3KkB7qWp3UiN"
      },
      "source": [
        "df=df.dropna(axis=0)"
      ],
      "execution_count": 7,
      "outputs": []
    },
    {
      "cell_type": "code",
      "metadata": {
        "colab": {
          "base_uri": "https://localhost:8080/"
        },
        "id": "DUXIDK_x3bzc",
        "outputId": "a354cbbd-333a-467d-9732-3fb4a00d9099"
      },
      "source": [
        "df['isFraud'].value_counts()"
      ],
      "execution_count": 8,
      "outputs": [
        {
          "output_type": "execute_result",
          "data": {
            "text/plain": [
              "0.0    3625255\n",
              "1.0       3103\n",
              "Name: isFraud, dtype: int64"
            ]
          },
          "metadata": {},
          "execution_count": 8
        }
      ]
    },
    {
      "cell_type": "markdown",
      "metadata": {
        "id": "xis7IvR8kU9A"
      },
      "source": [
        " Correlation between the given  Features"
      ]
    },
    {
      "cell_type": "code",
      "metadata": {
        "colab": {
          "base_uri": "https://localhost:8080/",
          "height": 335
        },
        "id": "lfRD2Zux4AO9",
        "outputId": "f8fc8478-7062-40cf-87e1-95df90cab70d"
      },
      "source": [
        "dataplot=sns.heatmap(df.corr(),cmap=\"YlGnBu\")\n",
        "plt.show()"
      ],
      "execution_count": 55,
      "outputs": [
        {
          "output_type": "display_data",
          "data": {
            "image/png": "[encoded data removed]",
            "text/plain": [
              "<Figure size 432x288 with 2 Axes>"
            ]
          },
          "metadata": {
            "needs_background": "light"
          }
        }
      ]
    },
    {
      "cell_type": "markdown",
      "metadata": {
        "id": "3-HLRxMlkoy0"
      },
      "source": [
        "# The values that I decided to discard were nameOrig,nameDest since these names are not necessary for calculating Fraud Values , also the no of features i reduced by calculating the difference between the intial and final transaction values of the client and the recepient by taking absolute difference "
      ]
    },
    {
      "cell_type": "code",
      "metadata": {
        "id": "Gzu8fpQNBAM2"
      },
      "source": [
        "df['olddiff']=abs(df['oldbalanceOrg']-df['newbalanceOrig'])\n",
        "df['newdif']=abs(df['oldbalanceDest']-df['newbalanceDest'])\n"
      ],
      "execution_count": 11,
      "outputs": []
    },
    {
      "cell_type": "code",
      "metadata": {
        "id": "HCsQ-vk6EBGL"
      },
      "source": [
        "df.drop(['oldbalanceOrg', 'newbalanceOrig','oldbalanceDest','newbalanceDest','nameOrig','nameDest',], axis='columns',inplace=True)\n",
        "\n"
      ],
      "execution_count": 12,
      "outputs": []
    },
    {
      "cell_type": "markdown",
      "metadata": {
        "id": "iqo-JLialoL5"
      },
      "source": [
        "# Changed the categorical values of type feature into dummy features using One Hot Encoding "
      ]
    },
    {
      "cell_type": "code",
      "metadata": {
        "colab": {
          "base_uri": "https://localhost:8080/",
          "height": 417
        },
        "id": "6v87y7bbE4c-",
        "outputId": "c2ade76a-e3cc-4915-e0db-83ece610cee4"
      },
      "source": [
        "new_df=pd.get_dummies(df, columns=[\"type\"])\n",
        "new_df"
      ],
      "execution_count": 13,
      "outputs": [
        {
          "output_type": "execute_result",
          "data": {
            "text/html": [
              "<div>\n",
              "<style scoped>\n",
              "    .dataframe tbody tr th:only-of-type {\n",
              "        vertical-align: middle;\n",
              "    }\n",
              "\n",
              "    .dataframe tbody tr th {\n",
              "        vertical-align: top;\n",
              "    }\n",
              "\n",
              "    .dataframe thead th {\n",
              "        text-align: right;\n",
              "    }\n",
              "</style>\n",
              "<table border=\"1\" class=\"dataframe\">\n",
              "  <thead>\n",
              "    <tr style=\"text-align: right;\">\n",
              "      <th></th>\n",
              "      <th>step</th>\n",
              "      <th>amount</th>\n",
              "      <th>isFraud</th>\n",
              "      <th>isFlaggedFraud</th>\n",
              "      <th>olddiff</th>\n",
              "      <th>newdif</th>\n",
              "      <th>type_CASH_IN</th>\n",
              "      <th>type_CASH_OUT</th>\n",
              "      <th>type_DEBIT</th>\n",
              "      <th>type_PAYMENT</th>\n",
              "      <th>type_TRANSFER</th>\n",
              "    </tr>\n",
              "  </thead>\n",
              "  <tbody>\n",
              "    <tr>\n",
              "      <th>0</th>\n",
              "      <td>1</td>\n",
              "      <td>9839.64</td>\n",
              "      <td>0.0</td>\n",
              "      <td>0.0</td>\n",
              "      <td>9839.64</td>\n",
              "      <td>0.00</td>\n",
              "      <td>0</td>\n",
              "      <td>0</td>\n",
              "      <td>0</td>\n",
              "      <td>1</td>\n",
              "      <td>0</td>\n",
              "    </tr>\n",
              "    <tr>\n",
              "      <th>1</th>\n",
              "      <td>1</td>\n",
              "      <td>1864.28</td>\n",
              "      <td>0.0</td>\n",
              "      <td>0.0</td>\n",
              "      <td>1864.28</td>\n",
              "      <td>0.00</td>\n",
              "      <td>0</td>\n",
              "      <td>0</td>\n",
              "      <td>0</td>\n",
              "      <td>1</td>\n",
              "      <td>0</td>\n",
              "    </tr>\n",
              "    <tr>\n",
              "      <th>2</th>\n",
              "      <td>1</td>\n",
              "      <td>181.00</td>\n",
              "      <td>1.0</td>\n",
              "      <td>0.0</td>\n",
              "      <td>181.00</td>\n",
              "      <td>0.00</td>\n",
              "      <td>0</td>\n",
              "      <td>0</td>\n",
              "      <td>0</td>\n",
              "      <td>0</td>\n",
              "      <td>1</td>\n",
              "    </tr>\n",
              "    <tr>\n",
              "      <th>3</th>\n",
              "      <td>1</td>\n",
              "      <td>181.00</td>\n",
              "      <td>1.0</td>\n",
              "      <td>0.0</td>\n",
              "      <td>181.00</td>\n",
              "      <td>21182.00</td>\n",
              "      <td>0</td>\n",
              "      <td>1</td>\n",
              "      <td>0</td>\n",
              "      <td>0</td>\n",
              "      <td>0</td>\n",
              "    </tr>\n",
              "    <tr>\n",
              "      <th>4</th>\n",
              "      <td>1</td>\n",
              "      <td>11668.14</td>\n",
              "      <td>0.0</td>\n",
              "      <td>0.0</td>\n",
              "      <td>11668.14</td>\n",
              "      <td>0.00</td>\n",
              "      <td>0</td>\n",
              "      <td>0</td>\n",
              "      <td>0</td>\n",
              "      <td>1</td>\n",
              "      <td>0</td>\n",
              "    </tr>\n",
              "    <tr>\n",
              "      <th>...</th>\n",
              "      <td>...</td>\n",
              "      <td>...</td>\n",
              "      <td>...</td>\n",
              "      <td>...</td>\n",
              "      <td>...</td>\n",
              "      <td>...</td>\n",
              "      <td>...</td>\n",
              "      <td>...</td>\n",
              "      <td>...</td>\n",
              "      <td>...</td>\n",
              "      <td>...</td>\n",
              "    </tr>\n",
              "    <tr>\n",
              "      <th>3628353</th>\n",
              "      <td>274</td>\n",
              "      <td>187794.47</td>\n",
              "      <td>0.0</td>\n",
              "      <td>0.0</td>\n",
              "      <td>187794.47</td>\n",
              "      <td>187794.47</td>\n",
              "      <td>1</td>\n",
              "      <td>0</td>\n",
              "      <td>0</td>\n",
              "      <td>0</td>\n",
              "      <td>0</td>\n",
              "    </tr>\n",
              "    <tr>\n",
              "      <th>3628354</th>\n",
              "      <td>274</td>\n",
              "      <td>208643.93</td>\n",
              "      <td>0.0</td>\n",
              "      <td>0.0</td>\n",
              "      <td>208643.93</td>\n",
              "      <td>208643.93</td>\n",
              "      <td>1</td>\n",
              "      <td>0</td>\n",
              "      <td>0</td>\n",
              "      <td>0</td>\n",
              "      <td>0</td>\n",
              "    </tr>\n",
              "    <tr>\n",
              "      <th>3628355</th>\n",
              "      <td>274</td>\n",
              "      <td>399491.85</td>\n",
              "      <td>0.0</td>\n",
              "      <td>0.0</td>\n",
              "      <td>399491.85</td>\n",
              "      <td>399491.85</td>\n",
              "      <td>1</td>\n",
              "      <td>0</td>\n",
              "      <td>0</td>\n",
              "      <td>0</td>\n",
              "      <td>0</td>\n",
              "    </tr>\n",
              "    <tr>\n",
              "      <th>3628356</th>\n",
              "      <td>274</td>\n",
              "      <td>27033.49</td>\n",
              "      <td>0.0</td>\n",
              "      <td>0.0</td>\n",
              "      <td>27033.50</td>\n",
              "      <td>27033.50</td>\n",
              "      <td>1</td>\n",
              "      <td>0</td>\n",
              "      <td>0</td>\n",
              "      <td>0</td>\n",
              "      <td>0</td>\n",
              "    </tr>\n",
              "    <tr>\n",
              "      <th>3628357</th>\n",
              "      <td>274</td>\n",
              "      <td>135561.22</td>\n",
              "      <td>0.0</td>\n",
              "      <td>0.0</td>\n",
              "      <td>135561.22</td>\n",
              "      <td>135561.23</td>\n",
              "      <td>1</td>\n",
              "      <td>0</td>\n",
              "      <td>0</td>\n",
              "      <td>0</td>\n",
              "      <td>0</td>\n",
              "    </tr>\n",
              "  </tbody>\n",
              "</table>\n",
              "<p>3628358 rows × 11 columns</p>\n",
              "</div>"
            ],
            "text/plain": [
              "         step     amount  isFraud  ...  type_DEBIT  type_PAYMENT  type_TRANSFER\n",
              "0           1    9839.64      0.0  ...           0             1              0\n",
              "1           1    1864.28      0.0  ...           0             1              0\n",
              "2           1     181.00      1.0  ...           0             0              1\n",
              "3           1     181.00      1.0  ...           0             0              0\n",
              "4           1   11668.14      0.0  ...           0             1              0\n",
              "...       ...        ...      ...  ...         ...           ...            ...\n",
              "3628353   274  187794.47      0.0  ...           0             0              0\n",
              "3628354   274  208643.93      0.0  ...           0             0              0\n",
              "3628355   274  399491.85      0.0  ...           0             0              0\n",
              "3628356   274   27033.49      0.0  ...           0             0              0\n",
              "3628357   274  135561.22      0.0  ...           0             0              0\n",
              "\n",
              "[3628358 rows x 11 columns]"
            ]
          },
          "metadata": {},
          "execution_count": 13
        }
      ]
    },
    {
      "cell_type": "code",
      "metadata": {
        "colab": {
          "base_uri": "https://localhost:8080/",
          "height": 358
        },
        "id": "YQ2IwSLWFDoE",
        "outputId": "9f4d7b66-358e-414f-9a97-a93fd570a840"
      },
      "source": [
        "\n",
        "dataplot=sns.heatmap(new_df.corr(),cmap=\"YlGnBu\")\n",
        "plt.figure(figsize=(20, 11))\n",
        "plt.show()\n",
        "     "
      ],
      "execution_count": 15,
      "outputs": [
        {
          "output_type": "display_data",
          "data": {
            "image/png": "[encoded data removed]",
            "text/plain": [
              "<Figure size 432x288 with 2 Axes>"
            ]
          },
          "metadata": {
            "needs_background": "light"
          }
        },
        {
          "output_type": "display_data",
          "data": {
            "text/plain": [
              "<Figure size 1440x792 with 0 Axes>"
            ]
          },
          "metadata": {}
        }
      ]
    },
    {
      "cell_type": "code",
      "metadata": {
        "colab": {
          "base_uri": "https://localhost:8080/",
          "height": 730
        },
        "id": "0cs06V9DR_Kn",
        "outputId": "3cb4d110-e2aa-46b5-d3bb-4cc6a5a1bd6d"
      },
      "source": [
        "plt.figure(figsize=(8, 12))\n",
        "heatmap = sns.heatmap(new_df.corr()[['isFraud']].sort_values(by='isFraud', ascending=False), vmin=-1, vmax=1, annot=True, cmap='BrBG')\n",
        "heatmap.set_title('Features Correlating with isFraud', fontdict={'fontsize':18}, pad=16);"
      ],
      "execution_count": 16,
      "outputs": [
        {
          "output_type": "display_data",
          "data": {
            "image/png": "[encoded data removed]",
            "text/plain": [
              "<Figure size 576x864 with 2 Axes>"
            ]
          },
          "metadata": {
            "needs_background": "light"
          }
        }
      ]
    },
    {
      "cell_type": "code",
      "metadata": {
        "colab": {
          "base_uri": "https://localhost:8080/"
        },
        "id": "rNsCxnsCGI-V",
        "outputId": "5102455f-4923-4fd9-fcd4-f0d6bfaf999f"
      },
      "source": [
        "corr_matrix = new_df.corr()\n",
        "corr_matrix['isFraud'].sort_values(ascending=False)"
      ],
      "execution_count": 17,
      "outputs": [
        {
          "output_type": "execute_result",
          "data": {
            "text/plain": [
              "isFraud           1.000000\n",
              "olddiff           0.310107\n",
              "amount            0.129512\n",
              "type_TRANSFER     0.044019\n",
              "newdif            0.042155\n",
              "isFlaggedFraud    0.025377\n",
              "type_CASH_OUT     0.009045\n",
              "type_DEBIT       -0.002308\n",
              "step             -0.003452\n",
              "type_CASH_IN     -0.015487\n",
              "type_PAYMENT     -0.020866\n",
              "Name: isFraud, dtype: float64"
            ]
          },
          "metadata": {},
          "execution_count": 17
        }
      ]
    },
    {
      "cell_type": "markdown",
      "metadata": {
        "id": "qtQTDc7fre-x"
      },
      "source": [
        "*Splitting the dataset into traing and test "
      ]
    },
    {
      "cell_type": "code",
      "metadata": {
        "colab": {
          "base_uri": "https://localhost:8080/"
        },
        "id": "_6Ys5H2GGpOR",
        "outputId": "52e5a523-f2fd-463d-a05b-a3f3c7b0a02c"
      },
      "source": [
        "train_set, test_set  = train_test_split(df, test_size=0.2, random_state=42)\n",
        "print(f\"Rows in train set: {len(train_set)}\\nRows in test set: {len(test_set)}\\n\")"
      ],
      "execution_count": 18,
      "outputs": [
        {
          "output_type": "stream",
          "name": "stdout",
          "text": [
            "Rows in train set: 2902686\n",
            "Rows in test set: 725672\n",
            "\n"
          ]
        }
      ]
    },
    {
      "cell_type": "markdown",
      "metadata": {
        "id": "-dDOXFIhcvxa"
      },
      "source": [
        "# After I Splitted the dataset into train and test I tried model fitting using Logistic regression to check my accuracy but the model was overfitted ,Since the dataset is highly imbalanced I  performed  under sampling to balance the dataset."
      ]
    },
    {
      "cell_type": "code",
      "metadata": {
        "colab": {
          "base_uri": "https://localhost:8080/"
        },
        "id": "A4_ZLJ56c6HL",
        "outputId": "9165c735-0c85-4045-c2ca-e8e00c619ad5"
      },
      "source": [
        "new_df['isFraud'].value_counts()"
      ],
      "execution_count": 19,
      "outputs": [
        {
          "output_type": "execute_result",
          "data": {
            "text/plain": [
              "0.0    3625255\n",
              "1.0       3103\n",
              "Name: isFraud, dtype: int64"
            ]
          },
          "metadata": {},
          "execution_count": 19
        }
      ]
    },
    {
      "cell_type": "markdown",
      "metadata": {
        "id": "X1wlBCL1r2Ug"
      },
      "source": [
        "0 --> Normal Transaction\n",
        "\n",
        "1 --> fraudulent transaction"
      ]
    },
    {
      "cell_type": "code",
      "metadata": {
        "id": "eubhD7YjdEt1"
      },
      "source": [
        "legit = new_df[new_df['isFraud'] == 0]\n",
        "fraud = new_df[new_df['isFraud']== 1]"
      ],
      "execution_count": 21,
      "outputs": []
    },
    {
      "cell_type": "code",
      "metadata": {
        "colab": {
          "base_uri": "https://localhost:8080/"
        },
        "id": "_tkSS3nHdeph",
        "outputId": "fe6f00f6-8acb-4c66-8e0f-6fe879a7fdd5"
      },
      "source": [
        "print(legit.shape)\n",
        "print(fraud.shape)"
      ],
      "execution_count": 22,
      "outputs": [
        {
          "output_type": "stream",
          "name": "stdout",
          "text": [
            "(3625255, 11)\n",
            "(3103, 11)\n"
          ]
        }
      ]
    },
    {
      "cell_type": "code",
      "metadata": {
        "colab": {
          "base_uri": "https://localhost:8080/"
        },
        "id": "R2teU3bsfWLp",
        "outputId": "c019a570-13c9-4484-88a7-04e9d923d046"
      },
      "source": [
        "legit.amount.describe()"
      ],
      "execution_count": 24,
      "outputs": [
        {
          "output_type": "execute_result",
          "data": {
            "text/plain": [
              "count    3.625255e+06\n",
              "mean     1.549443e+05\n",
              "std      2.588856e+05\n",
              "min      2.000000e-02\n",
              "25%      1.237672e+04\n",
              "50%      7.505335e+04\n",
              "75%      2.089622e+05\n",
              "max      4.746337e+07\n",
              "Name: amount, dtype: float64"
            ]
          },
          "metadata": {},
          "execution_count": 24
        }
      ]
    },
    {
      "cell_type": "code",
      "metadata": {
        "colab": {
          "base_uri": "https://localhost:8080/"
        },
        "id": "OCxKv9Lufofq",
        "outputId": "18af1e31-09ab-45be-ab02-6a335533d4e4"
      },
      "source": [
        "fraud.amount.describe()"
      ],
      "execution_count": 25,
      "outputs": [
        {
          "output_type": "execute_result",
          "data": {
            "text/plain": [
              "count    3.103000e+03\n",
              "mean     1.346089e+06\n",
              "std      2.190426e+06\n",
              "min      0.000000e+00\n",
              "25%      1.148896e+05\n",
              "50%      4.125113e+05\n",
              "75%      1.509294e+06\n",
              "max      1.000000e+07\n",
              "Name: amount, dtype: float64"
            ]
          },
          "metadata": {},
          "execution_count": 25
        }
      ]
    },
    {
      "cell_type": "code",
      "metadata": {
        "colab": {
          "base_uri": "https://localhost:8080/",
          "height": 162
        },
        "id": "0JEYLP9QfvqD",
        "outputId": "2f32c20f-21aa-4212-842a-d960ea561ed3"
      },
      "source": [
        "new_df.groupby('isFraud').mean()"
      ],
      "execution_count": 27,
      "outputs": [
        {
          "output_type": "execute_result",
          "data": {
            "text/html": [
              "<div>\n",
              "<style scoped>\n",
              "    .dataframe tbody tr th:only-of-type {\n",
              "        vertical-align: middle;\n",
              "    }\n",
              "\n",
              "    .dataframe tbody tr th {\n",
              "        vertical-align: top;\n",
              "    }\n",
              "\n",
              "    .dataframe thead th {\n",
              "        text-align: right;\n",
              "    }\n",
              "</style>\n",
              "<table border=\"1\" class=\"dataframe\">\n",
              "  <thead>\n",
              "    <tr style=\"text-align: right;\">\n",
              "      <th></th>\n",
              "      <th>step</th>\n",
              "      <th>amount</th>\n",
              "      <th>isFlaggedFraud</th>\n",
              "      <th>olddiff</th>\n",
              "      <th>newdif</th>\n",
              "      <th>type_CASH_IN</th>\n",
              "      <th>type_CASH_OUT</th>\n",
              "      <th>type_DEBIT</th>\n",
              "      <th>type_PAYMENT</th>\n",
              "      <th>type_TRANSFER</th>\n",
              "    </tr>\n",
              "    <tr>\n",
              "      <th>isFraud</th>\n",
              "      <th></th>\n",
              "      <th></th>\n",
              "      <th></th>\n",
              "      <th></th>\n",
              "      <th></th>\n",
              "      <th></th>\n",
              "      <th></th>\n",
              "      <th></th>\n",
              "      <th></th>\n",
              "      <th></th>\n",
              "    </tr>\n",
              "  </thead>\n",
              "  <tbody>\n",
              "    <tr>\n",
              "      <th>0.0</th>\n",
              "      <td>145.964147</td>\n",
              "      <td>1.549443e+05</td>\n",
              "      <td>0.000000</td>\n",
              "      <td>5.111385e+04</td>\n",
              "      <td>164144.027169</td>\n",
              "      <td>0.219077</td>\n",
              "      <td>0.354988</td>\n",
              "      <td>0.00619</td>\n",
              "      <td>0.33745</td>\n",
              "      <td>0.082295</td>\n",
              "    </tr>\n",
              "    <tr>\n",
              "      <th>1.0</th>\n",
              "      <td>136.024815</td>\n",
              "      <td>1.346089e+06</td>\n",
              "      <td>0.000645</td>\n",
              "      <td>1.340827e+06</td>\n",
              "      <td>684877.657180</td>\n",
              "      <td>0.000000</td>\n",
              "      <td>0.503062</td>\n",
              "      <td>0.00000</td>\n",
              "      <td>0.00000</td>\n",
              "      <td>0.496938</td>\n",
              "    </tr>\n",
              "  </tbody>\n",
              "</table>\n",
              "</div>"
            ],
            "text/plain": [
              "               step        amount  ...  type_PAYMENT  type_TRANSFER\n",
              "isFraud                            ...                             \n",
              "0.0      145.964147  1.549443e+05  ...       0.33745       0.082295\n",
              "1.0      136.024815  1.346089e+06  ...       0.00000       0.496938\n",
              "\n",
              "[2 rows x 10 columns]"
            ]
          },
          "metadata": {},
          "execution_count": 27
        }
      ]
    },
    {
      "cell_type": "markdown",
      "metadata": {
        "id": "dVZFW2IZgI9-"
      },
      "source": [
        "# Build a sample dataset containing similar distribution of normal transactions and Fraudulent Transactions"
      ]
    },
    {
      "cell_type": "code",
      "metadata": {
        "id": "PdjzkI0dgKAl"
      },
      "source": [
        "legit_sample = legit.sample(n=3103)"
      ],
      "execution_count": 33,
      "outputs": []
    },
    {
      "cell_type": "markdown",
      "metadata": {
        "id": "1p8dVpL6sRAF"
      },
      "source": [
        "*Concatinating two data Frames"
      ]
    },
    {
      "cell_type": "code",
      "metadata": {
        "id": "s_5cKsRpgTMM"
      },
      "source": [
        "new_dataset = pd.concat([legit_sample, fraud], axis=0)"
      ],
      "execution_count": 34,
      "outputs": []
    },
    {
      "cell_type": "code",
      "metadata": {
        "colab": {
          "base_uri": "https://localhost:8080/",
          "height": 203
        },
        "id": "kdtBwT_Dghle",
        "outputId": "512100d6-7429-4f48-cafe-e7569ad77a89"
      },
      "source": [
        "new_dataset.head()"
      ],
      "execution_count": 35,
      "outputs": [
        {
          "output_type": "execute_result",
          "data": {
            "text/html": [
              "<div>\n",
              "<style scoped>\n",
              "    .dataframe tbody tr th:only-of-type {\n",
              "        vertical-align: middle;\n",
              "    }\n",
              "\n",
              "    .dataframe tbody tr th {\n",
              "        vertical-align: top;\n",
              "    }\n",
              "\n",
              "    .dataframe thead th {\n",
              "        text-align: right;\n",
              "    }\n",
              "</style>\n",
              "<table border=\"1\" class=\"dataframe\">\n",
              "  <thead>\n",
              "    <tr style=\"text-align: right;\">\n",
              "      <th></th>\n",
              "      <th>step</th>\n",
              "      <th>amount</th>\n",
              "      <th>isFraud</th>\n",
              "      <th>isFlaggedFraud</th>\n",
              "      <th>olddiff</th>\n",
              "      <th>newdif</th>\n",
              "      <th>type_CASH_IN</th>\n",
              "      <th>type_CASH_OUT</th>\n",
              "      <th>type_DEBIT</th>\n",
              "      <th>type_PAYMENT</th>\n",
              "      <th>type_TRANSFER</th>\n",
              "    </tr>\n",
              "  </thead>\n",
              "  <tbody>\n",
              "    <tr>\n",
              "      <th>2534911</th>\n",
              "      <td>205</td>\n",
              "      <td>55792.73</td>\n",
              "      <td>0.0</td>\n",
              "      <td>0.0</td>\n",
              "      <td>55792.73</td>\n",
              "      <td>0.00</td>\n",
              "      <td>0</td>\n",
              "      <td>0</td>\n",
              "      <td>0</td>\n",
              "      <td>1</td>\n",
              "      <td>0</td>\n",
              "    </tr>\n",
              "    <tr>\n",
              "      <th>3070267</th>\n",
              "      <td>235</td>\n",
              "      <td>11199.41</td>\n",
              "      <td>0.0</td>\n",
              "      <td>0.0</td>\n",
              "      <td>11199.41</td>\n",
              "      <td>0.00</td>\n",
              "      <td>0</td>\n",
              "      <td>0</td>\n",
              "      <td>0</td>\n",
              "      <td>1</td>\n",
              "      <td>0</td>\n",
              "    </tr>\n",
              "    <tr>\n",
              "      <th>1559525</th>\n",
              "      <td>154</td>\n",
              "      <td>11550.08</td>\n",
              "      <td>0.0</td>\n",
              "      <td>0.0</td>\n",
              "      <td>11550.08</td>\n",
              "      <td>0.00</td>\n",
              "      <td>0</td>\n",
              "      <td>0</td>\n",
              "      <td>0</td>\n",
              "      <td>1</td>\n",
              "      <td>0</td>\n",
              "    </tr>\n",
              "    <tr>\n",
              "      <th>1205606</th>\n",
              "      <td>133</td>\n",
              "      <td>499144.92</td>\n",
              "      <td>0.0</td>\n",
              "      <td>0.0</td>\n",
              "      <td>155443.00</td>\n",
              "      <td>499144.92</td>\n",
              "      <td>0</td>\n",
              "      <td>1</td>\n",
              "      <td>0</td>\n",
              "      <td>0</td>\n",
              "      <td>0</td>\n",
              "    </tr>\n",
              "    <tr>\n",
              "      <th>2331605</th>\n",
              "      <td>188</td>\n",
              "      <td>239960.74</td>\n",
              "      <td>0.0</td>\n",
              "      <td>0.0</td>\n",
              "      <td>0.00</td>\n",
              "      <td>239960.74</td>\n",
              "      <td>0</td>\n",
              "      <td>0</td>\n",
              "      <td>0</td>\n",
              "      <td>0</td>\n",
              "      <td>1</td>\n",
              "    </tr>\n",
              "  </tbody>\n",
              "</table>\n",
              "</div>"
            ],
            "text/plain": [
              "         step     amount  isFraud  ...  type_DEBIT  type_PAYMENT  type_TRANSFER\n",
              "2534911   205   55792.73      0.0  ...           0             1              0\n",
              "3070267   235   11199.41      0.0  ...           0             1              0\n",
              "1559525   154   11550.08      0.0  ...           0             1              0\n",
              "1205606   133  499144.92      0.0  ...           0             0              0\n",
              "2331605   188  239960.74      0.0  ...           0             0              1\n",
              "\n",
              "[5 rows x 11 columns]"
            ]
          },
          "metadata": {},
          "execution_count": 35
        }
      ]
    },
    {
      "cell_type": "code",
      "metadata": {
        "colab": {
          "base_uri": "https://localhost:8080/"
        },
        "id": "pTbjuTGXglqT",
        "outputId": "3542183c-e8ff-4f38-8ab8-6b4f318928f7"
      },
      "source": [
        "new_dataset['isFraud'].value_counts()"
      ],
      "execution_count": 36,
      "outputs": [
        {
          "output_type": "execute_result",
          "data": {
            "text/plain": [
              "1.0    3103\n",
              "0.0    3103\n",
              "Name: isFraud, dtype: int64"
            ]
          },
          "metadata": {},
          "execution_count": 36
        }
      ]
    },
    {
      "cell_type": "code",
      "metadata": {
        "colab": {
          "base_uri": "https://localhost:8080/",
          "height": 162
        },
        "id": "ZttBzaOsg336",
        "outputId": "b59db4dc-cb09-4bc4-aca1-7195b6c3452c"
      },
      "source": [
        "new_dataset.groupby('isFraud').mean()"
      ],
      "execution_count": 38,
      "outputs": [
        {
          "output_type": "execute_result",
          "data": {
            "text/html": [
              "<div>\n",
              "<style scoped>\n",
              "    .dataframe tbody tr th:only-of-type {\n",
              "        vertical-align: middle;\n",
              "    }\n",
              "\n",
              "    .dataframe tbody tr th {\n",
              "        vertical-align: top;\n",
              "    }\n",
              "\n",
              "    .dataframe thead th {\n",
              "        text-align: right;\n",
              "    }\n",
              "</style>\n",
              "<table border=\"1\" class=\"dataframe\">\n",
              "  <thead>\n",
              "    <tr style=\"text-align: right;\">\n",
              "      <th></th>\n",
              "      <th>step</th>\n",
              "      <th>amount</th>\n",
              "      <th>isFlaggedFraud</th>\n",
              "      <th>olddiff</th>\n",
              "      <th>newdif</th>\n",
              "      <th>type_CASH_IN</th>\n",
              "      <th>type_CASH_OUT</th>\n",
              "      <th>type_DEBIT</th>\n",
              "      <th>type_PAYMENT</th>\n",
              "      <th>type_TRANSFER</th>\n",
              "    </tr>\n",
              "    <tr>\n",
              "      <th>isFraud</th>\n",
              "      <th></th>\n",
              "      <th></th>\n",
              "      <th></th>\n",
              "      <th></th>\n",
              "      <th></th>\n",
              "      <th></th>\n",
              "      <th></th>\n",
              "      <th></th>\n",
              "      <th></th>\n",
              "      <th></th>\n",
              "    </tr>\n",
              "  </thead>\n",
              "  <tbody>\n",
              "    <tr>\n",
              "      <th>0.0</th>\n",
              "      <td>143.365131</td>\n",
              "      <td>1.514618e+05</td>\n",
              "      <td>0.000000</td>\n",
              "      <td>5.288866e+04</td>\n",
              "      <td>169300.16961</td>\n",
              "      <td>0.219465</td>\n",
              "      <td>0.362875</td>\n",
              "      <td>0.004512</td>\n",
              "      <td>0.334837</td>\n",
              "      <td>0.078311</td>\n",
              "    </tr>\n",
              "    <tr>\n",
              "      <th>1.0</th>\n",
              "      <td>136.024815</td>\n",
              "      <td>1.346089e+06</td>\n",
              "      <td>0.000645</td>\n",
              "      <td>1.340827e+06</td>\n",
              "      <td>684877.65718</td>\n",
              "      <td>0.000000</td>\n",
              "      <td>0.503062</td>\n",
              "      <td>0.000000</td>\n",
              "      <td>0.000000</td>\n",
              "      <td>0.496938</td>\n",
              "    </tr>\n",
              "  </tbody>\n",
              "</table>\n",
              "</div>"
            ],
            "text/plain": [
              "               step        amount  ...  type_PAYMENT  type_TRANSFER\n",
              "isFraud                            ...                             \n",
              "0.0      143.365131  1.514618e+05  ...      0.334837       0.078311\n",
              "1.0      136.024815  1.346089e+06  ...      0.000000       0.496938\n",
              "\n",
              "[2 rows x 10 columns]"
            ]
          },
          "metadata": {},
          "execution_count": 38
        }
      ]
    },
    {
      "cell_type": "code",
      "metadata": {
        "id": "sFOIrEFehEF_"
      },
      "source": [
        "X = new_dataset.drop(columns='isFraud', axis=1)\n",
        "Y = new_dataset['isFraud']"
      ],
      "execution_count": 39,
      "outputs": []
    },
    {
      "cell_type": "code",
      "metadata": {
        "colab": {
          "base_uri": "https://localhost:8080/"
        },
        "id": "omc-GdJmhM43",
        "outputId": "9395f813-1e74-4ec6-eb71-e9e8f7217c39"
      },
      "source": [
        "print(X)"
      ],
      "execution_count": 40,
      "outputs": [
        {
          "output_type": "stream",
          "name": "stdout",
          "text": [
            "         step      amount  ...  type_PAYMENT  type_TRANSFER\n",
            "2534911   205    55792.73  ...             1              0\n",
            "3070267   235    11199.41  ...             1              0\n",
            "1559525   154    11550.08  ...             1              0\n",
            "1205606   133   499144.92  ...             0              0\n",
            "2331605   188   239960.74  ...             0              1\n",
            "...       ...         ...  ...           ...            ...\n",
            "3626200   274   131594.12  ...             0              0\n",
            "3626259   274   188441.76  ...             0              1\n",
            "3626260   274   188441.76  ...             0              0\n",
            "3627209   274  2274566.61  ...             0              1\n",
            "3627210   274  2274566.61  ...             0              0\n",
            "\n",
            "[6206 rows x 10 columns]\n"
          ]
        }
      ]
    },
    {
      "cell_type": "code",
      "metadata": {
        "colab": {
          "base_uri": "https://localhost:8080/"
        },
        "id": "bQ_Z2pd7hT21",
        "outputId": "9062f130-ba10-4dc7-8a1e-582479a329f0"
      },
      "source": [
        "print(Y)"
      ],
      "execution_count": 41,
      "outputs": [
        {
          "output_type": "stream",
          "name": "stdout",
          "text": [
            "2534911    0.0\n",
            "3070267    0.0\n",
            "1559525    0.0\n",
            "1205606    0.0\n",
            "2331605    0.0\n",
            "          ... \n",
            "3626200    1.0\n",
            "3626259    1.0\n",
            "3626260    1.0\n",
            "3627209    1.0\n",
            "3627210    1.0\n",
            "Name: isFraud, Length: 6206, dtype: float64\n"
          ]
        }
      ]
    },
    {
      "cell_type": "code",
      "metadata": {
        "id": "MXG2_u8Mhagr"
      },
      "source": [
        "X_train, X_test, Y_train, Y_test = train_test_split(X, Y, test_size=0.2, stratify=Y, random_state=2)"
      ],
      "execution_count": 42,
      "outputs": []
    },
    {
      "cell_type": "code",
      "metadata": {
        "colab": {
          "base_uri": "https://localhost:8080/"
        },
        "id": "g6oPDv3ShfBp",
        "outputId": "3c1977e7-6059-4a55-9cc4-724a3b3d3d1b"
      },
      "source": [
        "print(X.shape, X_train.shape, X_test.shape)"
      ],
      "execution_count": 43,
      "outputs": [
        {
          "output_type": "stream",
          "name": "stdout",
          "text": [
            "(6206, 10) (4964, 10) (1242, 10)\n"
          ]
        }
      ]
    },
    {
      "cell_type": "markdown",
      "metadata": {
        "id": "2vDSCzN_iIhO"
      },
      "source": [
        "##MODEL SELECTION\n",
        "  Logistic regression is the appropriate regression analysis to conduct when the dependent variable is dichotomous (binary).  Like all regression analyses, the logistic regression is a predictive analysis.  Logistic regression is used to describe data and to explain the relationship between one dependent binary variable and one or more nominal, ordinal, interval or ratio-level independent variables.\n",
        "The accuracy came out to be 80% which was improved by using a better model i.e. Decision Tree classifier \n",
        "\n",
        "\n",
        "Decision Trees. Decision Trees (DTs) are a non-parametric supervised learning method used for classification and regression. The goal is to create a model that predicts the value of a target variable by learning simple decision rules inferred from the data features.After applying decision tree the accuracy was improved to 93% and our model performed much better"
      ]
    },
    {
      "cell_type": "code",
      "metadata": {
        "id": "3_Gwk7xNhif5"
      },
      "source": [
        "model = LogisticRegression()"
      ],
      "execution_count": 44,
      "outputs": []
    },
    {
      "cell_type": "code",
      "metadata": {
        "colab": {
          "base_uri": "https://localhost:8080/"
        },
        "id": "XUZD6LbKhl5c",
        "outputId": "286d3c08-b948-46d2-ceb2-cbe9017b2b20"
      },
      "source": [
        "# training the Logistic Regression Model with Training Data\n",
        "model.fit(X_train, Y_train)"
      ],
      "execution_count": 45,
      "outputs": [
        {
          "output_type": "execute_result",
          "data": {
            "text/plain": [
              "LogisticRegression(C=1.0, class_weight=None, dual=False, fit_intercept=True,\n",
              "                   intercept_scaling=1, l1_ratio=None, max_iter=100,\n",
              "                   multi_class='auto', n_jobs=None, penalty='l2',\n",
              "                   random_state=None, solver='lbfgs', tol=0.0001, verbose=0,\n",
              "                   warm_start=False)"
            ]
          },
          "metadata": {},
          "execution_count": 45
        }
      ]
    },
    {
      "cell_type": "code",
      "metadata": {
        "id": "xeIafaTThpf0"
      },
      "source": [
        "# accuracy on training data\n",
        "X_train_prediction = model.predict(X_train)\n",
        "training_data_accuracy = accuracy_score(X_train_prediction, Y_train)"
      ],
      "execution_count": 46,
      "outputs": []
    },
    {
      "cell_type": "code",
      "metadata": {
        "colab": {
          "base_uri": "https://localhost:8080/"
        },
        "id": "qdJ3W447hufz",
        "outputId": "b9f8de71-753c-43c3-afa9-11df26dbacdd"
      },
      "source": [
        "print('Accuracy on Training data : ', training_data_accuracy)"
      ],
      "execution_count": 47,
      "outputs": [
        {
          "output_type": "stream",
          "name": "stdout",
          "text": [
            "Accuracy on Training data :  0.8100322320709106\n"
          ]
        }
      ]
    },
    {
      "cell_type": "code",
      "metadata": {
        "id": "1_SK1GSah2FS"
      },
      "source": [
        "# accuracy on test data\n",
        "X_test_prediction = model.predict(X_test)\n",
        "test_data_accuracy = accuracy_score(X_test_prediction, Y_test)"
      ],
      "execution_count": 48,
      "outputs": []
    },
    {
      "cell_type": "code",
      "metadata": {
        "colab": {
          "base_uri": "https://localhost:8080/"
        },
        "id": "xijG4I8Hh6B2",
        "outputId": "7036f20b-bcea-47dc-d86e-fed402d5c9c4"
      },
      "source": [
        "print('Accuracy score on Test Data : ', test_data_accuracy)"
      ],
      "execution_count": 49,
      "outputs": [
        {
          "output_type": "stream",
          "name": "stdout",
          "text": [
            "Accuracy score on Test Data :  0.8043478260869565\n"
          ]
        }
      ]
    },
    {
      "cell_type": "markdown",
      "metadata": {
        "id": "f3tmTh-Hh96C"
      },
      "source": [
        "## Using Decision Tree Classifier"
      ]
    },
    {
      "cell_type": "code",
      "metadata": {
        "id": "3bRuml-5iG7F"
      },
      "source": [
        "model2=DecisionTreeClassifier()"
      ],
      "execution_count": 50,
      "outputs": []
    },
    {
      "cell_type": "code",
      "metadata": {
        "colab": {
          "base_uri": "https://localhost:8080/"
        },
        "id": "SoBX1piHiG_Z",
        "outputId": "6030f2f0-f6cb-4ecc-b2e0-d030abe77344"
      },
      "source": [
        "# training the Decision Tree Classifier Model with Training Data\n",
        "model2.fit(X_train, Y_train)"
      ],
      "execution_count": 51,
      "outputs": [
        {
          "output_type": "execute_result",
          "data": {
            "text/plain": [
              "DecisionTreeClassifier(ccp_alpha=0.0, class_weight=None, criterion='gini',\n",
              "                       max_depth=None, max_features=None, max_leaf_nodes=None,\n",
              "                       min_impurity_decrease=0.0, min_impurity_split=None,\n",
              "                       min_samples_leaf=1, min_samples_split=2,\n",
              "                       min_weight_fraction_leaf=0.0, presort='deprecated',\n",
              "                       random_state=None, splitter='best')"
            ]
          },
          "metadata": {},
          "execution_count": 51
        }
      ]
    },
    {
      "cell_type": "code",
      "metadata": {
        "colab": {
          "base_uri": "https://localhost:8080/"
        },
        "id": "eDQjK4Ncipp2",
        "outputId": "d1d2f6c1-1fcb-42a3-a30d-433a20e47c2b"
      },
      "source": [
        "Y_predict=model2.predict(X_test)\n",
        "test_data_ACC = accuracy_score(Y_predict, Y_test)\n",
        "test_data_ACC\n"
      ],
      "execution_count": 54,
      "outputs": [
        {
          "output_type": "execute_result",
          "data": {
            "text/plain": [
              "0.9371980676328503"
            ]
          },
          "metadata": {},
          "execution_count": 54
        }
      ]
    },
    {
      "cell_type": "markdown",
      "metadata": {
        "id": "Wkj25BD2vi4b"
      },
      "source": [
        "# The key factors that can predict fradulent customer are \n",
        "\n",
        "*The past order details.\n",
        "\n",
        "*Their preferred payment methods\n",
        "\n",
        "*The locations they have used for the transactions.\n",
        "\n",
        "*Their network (emails, phone numbers, and payment details entered with the online account).\n",
        "\n",
        "*The amount of money they have used in transactions\n",
        "\n",
        "*The amount of money Transferred to recepient."
      ]
    },
    {
      "cell_type": "markdown",
      "metadata": {
        "id": "xrBJJ4xTwHTx"
      },
      "source": [
        "# Possible prevention that should be adopted to avoid fraudulent transactions are \n",
        "\n",
        "*Maintain awareness of the latest fraud trends.\n",
        "\n",
        "*Partner with a verified payment processor.\n",
        "\n",
        "*Encrypt transactions and emails containing confidential information.\n",
        "\n",
        "*Ensure that tokens and login credentials are regularly changed.\n",
        "\n",
        "*Use AI and ML based models to for security purposes"
      ]
    },
    {
      "cell_type": "markdown",
      "metadata": {
        "id": "4ngyl-MMLq8z"
      },
      "source": [
        "# How to Ensure Preventions are implemented\n",
        "\n",
        "\n",
        "*All the models and technologies that have been used to develop fraud prevention schemes must be stay updated with the varies in data and theft in transaction schemes it is important to keep in par with updations requiewd\n",
        "\n",
        "\n",
        "\n",
        "*Ensuring Awareness\n",
        "\n",
        "Awareness affects all employees. Everyone within the organization should be aware of the fraud risk policy including types of fraud and the consequences associated with them. \n",
        "\n",
        "Internal control programs should be monitored and revised on a consistent basis to ensure they are effective and current with technological and other advances. If you do not have an internal control process or fraud prevention program in place, then you should hire a professional with experience in this area. An expert will analyze the company’s policies and procedures, recommend appropriate programs and assist with implementation.\n",
        "\n",
        "*Hire Trustworthy Experts\n",
        "\n",
        "When hiring accountants, fraud examiners, and other expert professionals who will have access to sensitive company information such as bank account numbers, it is critical to ensure these firms or individuals have reputations built on quality service and trustworthiness. \n",
        "\n",
        "*Live Work Culture\n",
        "\n",
        "A positive work environment can prevent employee fraud and theft. There should be a clear organizational structure, written policies and procedures and fair employment practices. \n",
        "\n"
      ]
    }
  ]
}